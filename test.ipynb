{
 "cells": [
  {
   "cell_type": "code",
   "execution_count": 4,
   "metadata": {},
   "outputs": [],
   "source": [
    "import cv2\n",
    "import pyautogui\n",
    "import pygetwindow as gw\n",
    "import numpy as np\n",
    "from time import sleep"
   ]
  },
  {
   "cell_type": "code",
   "execution_count": 5,
   "metadata": {},
   "outputs": [],
   "source": [
    "pyautogui.mouseInfo()"
   ]
  },
  {
   "cell_type": "code",
   "execution_count": 6,
   "metadata": {},
   "outputs": [],
   "source": [
    "def get_target_window():\n",
    "    windows = gw.getAllTitles()\n",
    "    windows\n",
    "    target_window_title = 'BlueStacks App Player'\n",
    "    target_window = gw.getWindowsWithTitle(target_window_title)\n",
    "    target_window = target_window[0]\n",
    "    return target_window"
   ]
  },
  {
   "cell_type": "code",
   "execution_count": null,
   "metadata": {},
   "outputs": [],
   "source": [
    "def auto_skip(add_on = 1):\n",
    "    # skip images\n",
    "    image_1 = cv2.imread('./DetectionObjects/Skip(1).png')\n",
    "    image_2 = cv2.imread('./DetectionObjects/Skip(2).png')\n",
    "\n",
    "    # take screenshot current screen\n",
    "    left, top, width, height = target_window.left, target_window.top, target_window.width, target_window.height\n",
    "    screenshot = pyautogui.screenshot(region = (left, top, width, height))\n",
    "\n",
    "    # check similarity\n",
    "        "
   ]
  },
  {
   "cell_type": "code",
   "execution_count": null,
   "metadata": {},
   "outputs": [],
   "source": [
    "image_1 = cv2.imread('./DetectionObjects/Skip(1).png')\n",
    "cv2.imshow('image1', image_1)\n",
    "cv2.waitKey(0)\n",
    "cv2.destroyAllWindows()"
   ]
  },
  {
   "cell_type": "code",
   "execution_count": null,
   "metadata": {},
   "outputs": [],
   "source": [
    "target_window = get_target_window()\n",
    "left, top, width, height = target_window.left, target_window.top, target_window.width, target_window.height\n",
    "screenshot = pyautogui.screenshot(region = (left, top, width, height))\n",
    "screenshot = np.array(screenshot)"
   ]
  },
  {
   "cell_type": "code",
   "execution_count": null,
   "metadata": {},
   "outputs": [],
   "source": [
    "result = cv2.matchTemplate(screenshot, image_1, cv2.TM_CCOEFF_NORMED)\n",
    "threshold = 0.8\n",
    "locations =  np.where(result>=threshold)\n",
    "locations"
   ]
  },
  {
   "cell_type": "code",
   "execution_count": null,
   "metadata": {},
   "outputs": [],
   "source": [
    "cv2.imshow('image', image_1)"
   ]
  },
  {
   "cell_type": "code",
   "execution_count": null,
   "metadata": {},
   "outputs": [],
   "source": [
    "cv2.rectangle()"
   ]
  },
  {
   "cell_type": "code",
   "execution_count": null,
   "metadata": {},
   "outputs": [],
   "source": [
    "def auto_quest(n_clicks = 100, time = 10):\n",
    "    i = 0\n",
    "    while i < n_clicks:\n",
    "        pyautogui.leftClick(x = 141, y = 413)\n",
    "        i += 1\n",
    "        print('  %s' %i, end = '\\r')\n",
    "        sleep(time)"
   ]
  },
  {
   "cell_type": "code",
   "execution_count": null,
   "metadata": {},
   "outputs": [],
   "source": [
    "auto_quest()"
   ]
  },
  {
   "cell_type": "code",
   "execution_count": null,
   "metadata": {},
   "outputs": [],
   "source": []
  },
  {
   "cell_type": "code",
   "execution_count": null,
   "metadata": {},
   "outputs": [],
   "source": []
  }
 ],
 "metadata": {
  "kernelspec": {
   "display_name": ".venv",
   "language": "python",
   "name": "python3"
  },
  "language_info": {
   "codemirror_mode": {
    "name": "ipython",
    "version": 3
   },
   "file_extension": ".py",
   "mimetype": "text/x-python",
   "name": "python",
   "nbconvert_exporter": "python",
   "pygments_lexer": "ipython3",
   "version": "3.12.10"
  }
 },
 "nbformat": 4,
 "nbformat_minor": 2
}
